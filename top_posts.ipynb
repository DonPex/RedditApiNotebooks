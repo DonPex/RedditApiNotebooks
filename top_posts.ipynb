{
  "nbformat": 4,
  "nbformat_minor": 0,
  "metadata": {
    "colab": {
      "name": "top_posts.ipynb",
      "provenance": [],
      "authorship_tag": "ABX9TyN176HDbDFtPBMjJ7hlMu1E",
      "include_colab_link": true
    },
    "kernelspec": {
      "name": "python3",
      "display_name": "Python 3"
    }
  },
  "cells": [
    {
      "cell_type": "markdown",
      "metadata": {
        "id": "view-in-github",
        "colab_type": "text"
      },
      "source": [
        "<a href=\"https://colab.research.google.com/github/DonPex/RedditApiNotebooks/blob/main/top_posts.ipynb\" target=\"_parent\"><img src=\"https://colab.research.google.com/assets/colab-badge.svg\" alt=\"Open In Colab\"/></a>"
      ]
    },
    {
      "cell_type": "markdown",
      "metadata": {
        "id": "E70ddDGO7bg6"
      },
      "source": [
        "## Imports"
      ]
    },
    {
      "cell_type": "code",
      "metadata": {
        "id": "mDKSC6C84EJN"
      },
      "source": [
        "!pip3 install praw"
      ],
      "execution_count": null,
      "outputs": []
    },
    {
      "cell_type": "code",
      "metadata": {
        "id": "_Ym1_5mLqQyE"
      },
      "source": [
        "import praw\n",
        "from textblob import TextBlob\n",
        "# VADER can be accessed by the NLTK library.\n",
        "import nltk\n",
        "# Download the VADER tool and access it through the NLTK library.\n",
        "nltk.download('vader_lexicon')\n",
        "from nltk.sentiment.vader import SentimentIntensityAnalyzer"
      ],
      "execution_count": null,
      "outputs": []
    },
    {
      "cell_type": "code",
      "metadata": {
        "id": "45zo8RGG4Ll6"
      },
      "source": [
        "id = '<retrieve_id_from_reddit>'\n",
        "secret = '<retrieve_secret_from_reddit>'\n",
        "\n",
        "reddit_api = praw.Reddit(client_id=id,\n",
        "                         client_secret=secret,\n",
        "                         user_agent='testscript by u/<your_username>')\n"
      ],
      "execution_count": 5,
      "outputs": []
    },
    {
      "cell_type": "markdown",
      "metadata": {
        "id": "puGY35j96smP"
      },
      "source": [
        "## Top N post (upvotes) for a subreddit"
      ]
    },
    {
      "cell_type": "code",
      "metadata": {
        "colab": {
          "base_uri": "https://localhost:8080/"
        },
        "id": "CUjIP7Sj5YRI",
        "outputId": "91067c14-f72d-4f5d-d234-2f7ef028ac89"
      },
      "source": [
        "subr_name = 'italiapersonalfinance'\n",
        "period = 'month'\n",
        "n = 5\n",
        "\n",
        "top_posts = reddit_api.subreddit(subr_name).top(period, limit=n)\n",
        "\n",
        "for submission in top_posts:\n",
        "     print(\"Title: {} - Ups: {} - UpvoteRatio: {} - URL: {}\".format(submission.title, submission.ups, submission.upvote_ratio, submission.url))\n"
      ],
      "execution_count": 6,
      "outputs": [
        {
          "output_type": "stream",
          "name": "stderr",
          "text": [
            "It appears that you are using PRAW in an asynchronous environment.\n",
            "It is strongly recommended to use Async PRAW: https://asyncpraw.readthedocs.io.\n",
            "See https://praw.readthedocs.io/en/latest/getting_started/multiple_instances.html#discord-bots-and-asynchronous-environments for more info.\n",
            "\n"
          ]
        },
        {
          "output_type": "stream",
          "name": "stdout",
          "text": [
            "Title: Il lavoro che consuma e uccide. - Ups: 285 - UpvoteRatio: 0.98 - URL: https://www.reddit.com/r/ItaliaPersonalFinance/comments/r49t7d/il_lavoro_che_consuma_e_uccide/\n",
            "Title: Cari sviluppatori: smettete di cercare lavoro in Italia! - Ups: 188 - UpvoteRatio: 0.87 - URL: https://www.reddit.com/r/ItaliaPersonalFinance/comments/rb44vu/cari_sviluppatori_smettete_di_cercare_lavoro_in/\n",
            "Title: Una birra per u/Xhuly - Ups: 100 - UpvoteRatio: 0.93 - URL: https://www.reddit.com/r/ItaliaPersonalFinance/comments/r516u2/una_birra_per_uxhuly/\n",
            "Title: Sto ultimando lo sviluppo(90%) di un'app di budgeting diversa dalle solite. Proponete delle feature che vorreste; le integrerò e vi manterrò aggiornati sugli sviluppi! - Ups: 87 - UpvoteRatio: 0.97 - URL: https://www.reddit.com/r/ItaliaPersonalFinance/comments/qrui42/sto_ultimando_lo_sviluppo90_di_unapp_di_budgeting/\n",
            "Title: 60 ore di straordinari al mese sono troppo poche - Ups: 78 - UpvoteRatio: 0.96 - URL: https://www.reddit.com/r/ItaliaPersonalFinance/comments/qs7007/60_ore_di_straordinari_al_mese_sono_troppo_poche/\n"
          ]
        }
      ]
    },
    {
      "cell_type": "markdown",
      "source": [
        "## Sentiment Analysis with NLTK Vader"
      ],
      "metadata": {
        "id": "yPLzAoC_s3z0"
      }
    },
    {
      "cell_type": "code",
      "metadata": {
        "id": "jBcOoJ1T6w0r"
      },
      "source": [
        "def replies_of(top_level_comment,\n",
        "               count_comment,\n",
        "               sub_entries_textblob,\n",
        "               sub_entries_nltk):\n",
        "    if len(top_level_comment.replies) == 0:\n",
        "        count_comment = 0\n",
        "        return\n",
        "    else:\n",
        "        for num, comment in enumerate(top_level_comment.replies):\n",
        "            try:\n",
        "                count_comment += 1\n",
        "                #print('-' * count_comment, comment.body)\n",
        "                text_blob_sentiment(comment.body,\n",
        "                                       sub_entries_textblob)\n",
        "                nltk_sentiment(comment.body, sub_entries_nltk)\n",
        "            except:\n",
        "               continue\n",
        "            replies_of(comment, \n",
        "                       count_comment,\n",
        "                       sub_entries_textblob,\n",
        "                       sub_entries_nltk)\n",
        "            \n",
        "\n",
        "def text_blob_sentiment(review, sub_entries_textblob):\n",
        "    analysis = TextBlob(review)\n",
        "    if analysis.sentiment.polarity >= 0.0001:\n",
        "        if analysis.sentiment.polarity > 0:\n",
        "            sub_entries_textblob['positive'] = sub_entries_textblob['positive']+1\n",
        "            return 'Positive'\n",
        "    elif analysis.sentiment.polarity <= -0.0001:\n",
        "        if analysis.sentiment.polarity <= 0:\n",
        "            sub_entries_textblob['negative'] = sub_entries_textblob['negative'] + 1\n",
        "            return 'Negative'\n",
        "    else:\n",
        "        sub_entries_textblob['neutral'] = sub_entries_textblob['neutral'] + 1\n",
        "        return 'Neutral'\n",
        "\n",
        "sia = SentimentIntensityAnalyzer()\n",
        "def nltk_sentiment(review, sub_entries_nltk):\n",
        "    vs = sia.polarity_scores(review)\n",
        "    if not vs['neg'] > 0.05:\n",
        "        if vs['pos'] - vs['neg'] > 0:\n",
        "            sub_entries_nltk['positive']=sub_entries_nltk['positive'] + 1\n",
        "            return 'Positive'\n",
        "        else:\n",
        "            sub_entries_nltk['neutral']=sub_entries_nltk['neutral'] + 1\n",
        "            return 'Neutral'\n",
        "    elif not vs['pos'] > 0.05:\n",
        "        if vs['pos'] - vs['neg'] <= 0:\n",
        "            sub_entries_nltk['negative']=sub_entries_nltk['negative'] + 1\n",
        "            return 'Negative'\n",
        "        else:\n",
        "            sub_entries_nltk['neutral']=sub_entries_nltk['neutral'] + 1\n",
        "            return 'Neutral'\n",
        "    else:\n",
        "        sub_entries_nltk['neutral']=sub_entries_nltk['neutral'] + 1\n",
        "        return 'Neutral'"
      ],
      "execution_count": 7,
      "outputs": []
    },
    {
      "cell_type": "code",
      "metadata": {
        "id": "SrkeVVaKJ5PX",
        "colab": {
          "base_uri": "https://localhost:8080/"
        },
        "outputId": "921f89e7-7d74-4ed7-e458-178969ed167a"
      },
      "source": [
        "top_posts = reddit_api.subreddit('cryptocurrency').top('month', limit=5)\n",
        "\n",
        "for submission in top_posts:\n",
        "    sub_entries_textblob = {'negative': 0, 'positive' : 0, 'neutral' : 0}\n",
        "    sub_entries_nltk = {'negative': 0, 'positive' : 0, 'neutral' : 0}\n",
        "    print('Title of the post :', submission.title)\n",
        "    print('URL : ', submission.url)\n",
        "\n",
        "    text_blob_sentiment(submission.title, sub_entries_textblob)\n",
        "    nltk_sentiment(submission.title, sub_entries_nltk)\n",
        "    #print(\"\\n\")\n",
        "    submission_comm = reddit_api.submission(id=submission.id)\n",
        "\n",
        "    for count, top_level_comment in enumerate(submission_comm.comments):\n",
        "        # print(f\"-------------{count} top level comment start--------------\")\n",
        "        count_comm = 0\n",
        "        try :\n",
        "            # print(top_level_comment.body)\n",
        "            text_blob_sentiment(top_level_comment.body, sub_entries_textblob)\n",
        "            nltk_sentiment(top_level_comment.body, sub_entries_nltk)\n",
        "            replies_of(top_level_comment,\n",
        "                        count_comm,\n",
        "                        sub_entries_textblob,\n",
        "                        sub_entries_nltk)\n",
        "        except:\n",
        "            continue\n",
        "    print('Over all Sentiment of Topic by TextBlob :', sub_entries_textblob)\n",
        "    print('Over all Sentiment of Topic by VADER :', sub_entries_nltk)\n",
        "    print(\"\\n\\n\\n\")"
      ],
      "execution_count": 24,
      "outputs": [
        {
          "output_type": "stream",
          "name": "stderr",
          "text": [
            "It appears that you are using PRAW in an asynchronous environment.\n",
            "It is strongly recommended to use Async PRAW: https://asyncpraw.readthedocs.io.\n",
            "See https://praw.readthedocs.io/en/latest/getting_started/multiple_instances.html#discord-bots-and-asynchronous-environments for more info.\n",
            "\n",
            "It appears that you are using PRAW in an asynchronous environment.\n",
            "It is strongly recommended to use Async PRAW: https://asyncpraw.readthedocs.io.\n",
            "See https://praw.readthedocs.io/en/latest/getting_started/multiple_instances.html#discord-bots-and-asynchronous-environments for more info.\n",
            "\n"
          ]
        },
        {
          "output_type": "stream",
          "name": "stdout",
          "text": [
            "Title of the post : AOC reveals she doesn't hold bitcoin because she wants to be an unbiased lawmaker\n",
            "URL :  https://markets.businessinsider.com/news/currencies/aoc-bitcoin-crypto-investment-unbiased-lawmaker-house-financial-services-committee-2021-12\n"
          ]
        },
        {
          "output_type": "stream",
          "name": "stderr",
          "text": [
            "It appears that you are using PRAW in an asynchronous environment.\n",
            "It is strongly recommended to use Async PRAW: https://asyncpraw.readthedocs.io.\n",
            "See https://praw.readthedocs.io/en/latest/getting_started/multiple_instances.html#discord-bots-and-asynchronous-environments for more info.\n",
            "\n"
          ]
        },
        {
          "output_type": "stream",
          "name": "stdout",
          "text": [
            "Over all Sentiment of Topic by TextBlob : {'negative': 90, 'positive': 264, 'neutral': 146}\n",
            "Over all Sentiment of Topic by VADER : {'negative': 79, 'positive': 169, 'neutral': 252}\n",
            "\n",
            "\n",
            "\n",
            "\n",
            "Title of the post : Tether (USDT) created $1,500,000,000 Worth of USDT Out of Thin Air in the Last 24h: Nothing of it is backed by actual Cash\n",
            "URL :  https://www.reddit.com/r/CryptoCurrency/comments/r9fni8/tether_usdt_created_1500000000_worth_of_usdt_out/\n"
          ]
        },
        {
          "output_type": "stream",
          "name": "stderr",
          "text": [
            "It appears that you are using PRAW in an asynchronous environment.\n",
            "It is strongly recommended to use Async PRAW: https://asyncpraw.readthedocs.io.\n",
            "See https://praw.readthedocs.io/en/latest/getting_started/multiple_instances.html#discord-bots-and-asynchronous-environments for more info.\n",
            "\n"
          ]
        },
        {
          "output_type": "stream",
          "name": "stdout",
          "text": [
            "Over all Sentiment of Topic by TextBlob : {'negative': 118, 'positive': 190, 'neutral': 191}\n",
            "Over all Sentiment of Topic by VADER : {'negative': 94, 'positive': 139, 'neutral': 266}\n",
            "\n",
            "\n",
            "\n",
            "\n",
            "Title of the post : Predictions Tournament\n",
            "URL :  https://reddit.com/r/CryptoCurrency/predictions?tournament=tnmt-ddb5d4f9-58ab-47da-a031-f3e2ad0b71bf\n"
          ]
        },
        {
          "output_type": "stream",
          "name": "stderr",
          "text": [
            "It appears that you are using PRAW in an asynchronous environment.\n",
            "It is strongly recommended to use Async PRAW: https://asyncpraw.readthedocs.io.\n",
            "See https://praw.readthedocs.io/en/latest/getting_started/multiple_instances.html#discord-bots-and-asynchronous-environments for more info.\n",
            "\n"
          ]
        },
        {
          "output_type": "stream",
          "name": "stdout",
          "text": [
            "Over all Sentiment of Topic by TextBlob : {'negative': 36, 'positive': 118, 'neutral': 130}\n",
            "Over all Sentiment of Topic by VADER : {'negative': 40, 'positive': 98, 'neutral': 146}\n",
            "\n",
            "\n",
            "\n",
            "\n",
            "Title of the post : It's been almost two months since the pandora papers unveiled a massive network of the rich and powerful hoarding billions of dollars in offshare tax havens, but instead of addressing the obvious fraud at hand, politicians aim to make crypto the \"bad guy\". You can't make this up.\n",
            "URL :  https://www.reddit.com/r/CryptoCurrency/comments/r5o83b/its_been_almost_two_months_since_the_pandora/\n"
          ]
        },
        {
          "output_type": "stream",
          "name": "stderr",
          "text": [
            "It appears that you are using PRAW in an asynchronous environment.\n",
            "It is strongly recommended to use Async PRAW: https://asyncpraw.readthedocs.io.\n",
            "See https://praw.readthedocs.io/en/latest/getting_started/multiple_instances.html#discord-bots-and-asynchronous-environments for more info.\n",
            "\n"
          ]
        },
        {
          "output_type": "stream",
          "name": "stdout",
          "text": [
            "Over all Sentiment of Topic by TextBlob : {'negative': 142, 'positive': 198, 'neutral': 157}\n",
            "Over all Sentiment of Topic by VADER : {'negative': 106, 'positive': 121, 'neutral': 270}\n",
            "\n",
            "\n",
            "\n",
            "\n",
            "Title of the post : ETH is bad, and I am tired of pretending it's not.\n",
            "URL :  https://www.reddit.com/r/CryptoCurrency/comments/qw2e32/eth_is_bad_and_i_am_tired_of_pretending_its_not/\n",
            "Over all Sentiment of Topic by TextBlob : {'negative': 105, 'positive': 218, 'neutral': 173}\n",
            "Over all Sentiment of Topic by VADER : {'negative': 73, 'positive': 152, 'neutral': 271}\n",
            "\n",
            "\n",
            "\n",
            "\n"
          ]
        }
      ]
    }
  ]
}